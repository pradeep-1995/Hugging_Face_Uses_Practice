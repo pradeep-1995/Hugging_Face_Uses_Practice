{
  "nbformat": 4,
  "nbformat_minor": 0,
  "metadata": {
    "colab": {
      "provenance": [],
      "authorship_tag": "ABX9TyOEs6naDhxc/JBmFi8iEeeg",
      "include_colab_link": true
    },
    "kernelspec": {
      "name": "python3",
      "display_name": "Python 3"
    },
    "language_info": {
      "name": "python"
    }
  },
  "cells": [
    {
      "cell_type": "markdown",
      "metadata": {
        "id": "view-in-github",
        "colab_type": "text"
      },
      "source": [
        "<a href=\"https://colab.research.google.com/github/pradeep-1995/Hugging_Face_Uses_Practice/blob/main/sentiment_Text_Generation.ipynb\" target=\"_parent\"><img src=\"https://colab.research.google.com/assets/colab-badge.svg\" alt=\"Open In Colab\"/></a>"
      ]
    },
    {
      "cell_type": "code",
      "execution_count": null,
      "metadata": {
        "id": "oztIKH9Zglk3"
      },
      "outputs": [],
      "source": [
        "import warnings\n",
        "warnings.filterwarnings('ignore')\n",
        "\n",
        "import pandas as pd\n",
        "import numpy as np\n",
        "import matplotlib.pyplot as plt\n",
        "import seaborn as sns\n",
        "sns.set()"
      ]
    },
    {
      "cell_type": "code",
      "source": [
        "from sklearn.model_selection import train_test_split\n",
        "from sklearn.metrics import f1_score, confusion_matrix, roc_auc_score"
      ],
      "metadata": {
        "id": "yQ0VcLtThkfl"
      },
      "execution_count": null,
      "outputs": []
    },
    {
      "cell_type": "code",
      "source": [
        "from transformers import pipeline"
      ],
      "metadata": {
        "id": "BLY0W1cPhlAm"
      },
      "execution_count": null,
      "outputs": []
    },
    {
      "cell_type": "code",
      "source": [
        "import torch"
      ],
      "metadata": {
        "id": "z74g2YU_tjid"
      },
      "execution_count": null,
      "outputs": []
    },
    {
      "cell_type": "code",
      "source": [
        "classifier = pipeline(\"sentiment-analysis\")\n",
        "type(classifier)"
      ],
      "metadata": {
        "id": "7511RLJ2tjTG"
      },
      "execution_count": null,
      "outputs": []
    },
    {
      "cell_type": "code",
      "source": [
        "classifier(\"This is a good movie\")"
      ],
      "metadata": {
        "id": "6B0UIBrGwEYE"
      },
      "execution_count": null,
      "outputs": []
    },
    {
      "cell_type": "code",
      "source": [
        "classifier([\"This is a great course\",\n",
        "            \"I did not understood\"])"
      ],
      "metadata": {
        "id": "GQQR6ukrwEIX"
      },
      "execution_count": null,
      "outputs": []
    },
    {
      "cell_type": "code",
      "source": [
        "airline_tweets = pd.read_csv(\"Tweets.csv\")\n",
        "airline_tweets.head()"
      ],
      "metadata": {
        "id": "pHykX78pwD8R"
      },
      "execution_count": null,
      "outputs": []
    },
    {
      "cell_type": "code",
      "source": [
        "df = airline_tweets[['airline_sentiment', 'text']]\n",
        "df.head()"
      ],
      "metadata": {
        "id": "sJJdnNAHwDrW"
      },
      "execution_count": null,
      "outputs": []
    },
    {
      "cell_type": "code",
      "source": [
        "sns.countplot(df, x='airline_sentiment', palette='viridis')\n",
        "plt.xlabel('Airline Sentiment')\n",
        "plt.ylabel('Count')\n",
        "plt.title('Count of Airline Sentiments')\n",
        "plt.show()"
      ],
      "metadata": {
        "id": "_VpaMbXEzKfA"
      },
      "execution_count": null,
      "outputs": []
    },
    {
      "cell_type": "code",
      "source": [
        "df = df[df['airline_sentiment'] != 'neutral']\n",
        "df.head()"
      ],
      "metadata": {
        "id": "38DmInwWzKRu"
      },
      "execution_count": null,
      "outputs": []
    },
    {
      "cell_type": "code",
      "source": [
        "df['target'] = df['airline_sentiment'].map({'positive': 1, 'negative': 0})\n",
        "df.head()"
      ],
      "metadata": {
        "id": "ipirlg1RzJiz"
      },
      "execution_count": null,
      "outputs": []
    },
    {
      "cell_type": "code",
      "source": [
        "texts = df['text'].to_list()\n",
        "predictions = classifier(texts)\n",
        "predictions[:5]"
      ],
      "metadata": {
        "id": "7tFVrp_9zJLv"
      },
      "execution_count": null,
      "outputs": []
    },
    {
      "cell_type": "code",
      "source": [
        "probs = [pred['score'] if pred['label'].startswith('POS') else 1 - pred['score'] for pred in predictions]"
      ],
      "metadata": {
        "id": "TqDjTcQz5bD9"
      },
      "execution_count": null,
      "outputs": []
    },
    {
      "cell_type": "code",
      "source": [
        "preds = np.array([1 if pred['label'].startswith('POS') else 0 for pred in predictions])"
      ],
      "metadata": {
        "id": "q40QBKnK5a7v"
      },
      "execution_count": null,
      "outputs": []
    },
    {
      "cell_type": "code",
      "source": [
        "print(f\"Accuracy: {round(np.mean(df['target'] **preds) *100, 2)}%\")"
      ],
      "metadata": {
        "id": "ifInym7-5aky"
      },
      "execution_count": null,
      "outputs": []
    },
    {
      "cell_type": "code",
      "source": [
        "cm = confusion_matrix(df['target'], preds, normalize='true')"
      ],
      "metadata": {
        "id": "OLCU4CZk6pdX"
      },
      "execution_count": null,
      "outputs": []
    },
    {
      "cell_type": "code",
      "source": [
        "def plot_confusion_matrix(confusion_matrix, labels):\n",
        "  plt.figure(figsize=(8, 6))\n",
        "  sns.set(font_scale=1.4)\n",
        "\n",
        "  sns.heatmap(confusion_matrix, annot=True, cmap='Blues', fmt='.2f', xticklabels=labels, yticklabels=labels)\n",
        "  plt.xlabel('Predicted')\n",
        "  plt.ylabel('Actual')\n",
        "  plt.title('Confusion Matrix')\n",
        "  plt.show()"
      ],
      "metadata": {
        "id": "glaqqO-d6pRx"
      },
      "execution_count": null,
      "outputs": []
    },
    {
      "cell_type": "code",
      "source": [
        "plot_confusion_matrix(cm, ['Negative', 'Positive'])"
      ],
      "metadata": {
        "id": "E3bqfmVh7o08"
      },
      "execution_count": null,
      "outputs": []
    },
    {
      "cell_type": "code",
      "source": [
        "print(f\"ROC AUC Score: {roc_auc_score(df['target'],probs)}\")"
      ],
      "metadata": {
        "id": "NkYhb0--7omY"
      },
      "execution_count": null,
      "outputs": []
    },
    {
      "cell_type": "code",
      "source": [
        "poems = pd.read_csv('robert_frost_poems.csv')\n",
        "poems.head()"
      ],
      "metadata": {
        "id": "BrjYVlCv6pEF"
      },
      "execution_count": null,
      "outputs": []
    },
    {
      "cell_type": "code",
      "source": [
        "content = poems['Content'].dropna().tolist()"
      ],
      "metadata": {
        "id": "-lcuxjSx93Ux"
      },
      "execution_count": null,
      "outputs": []
    },
    {
      "cell_type": "code",
      "source": [
        "lines = []\n",
        "for poem in content:\n",
        "  for line in poem.split('\\n'):\n",
        "    lines.append(line.rstrip())"
      ],
      "metadata": {
        "id": "ljv61Xqc93Ne"
      },
      "execution_count": null,
      "outputs": []
    },
    {
      "cell_type": "code",
      "source": [
        "lines = [line for line in lines if len(line) >0]\n",
        "line[:5]"
      ],
      "metadata": {
        "id": "5ibmRwZd93HF"
      },
      "execution_count": null,
      "outputs": []
    },
    {
      "cell_type": "code",
      "source": [
        "gen = pipeline('text-generation')"
      ],
      "metadata": {
        "id": "J3hMueA_92_W"
      },
      "execution_count": null,
      "outputs": []
    },
    {
      "cell_type": "code",
      "source": [
        "lines[0]"
      ],
      "metadata": {
        "id": "6Mt-PbGZ92xd"
      },
      "execution_count": null,
      "outputs": []
    },
    {
      "cell_type": "code",
      "source": [
        "gen(lines[0],max_length = 20)"
      ],
      "metadata": {
        "id": "wEHDMQde_m0c"
      },
      "execution_count": null,
      "outputs": []
    },
    {
      "cell_type": "code",
      "source": [
        "gen(lines[1],max_length = 30, num_return_sequences=2)"
      ],
      "metadata": {
        "id": "Sh-fVN6w_mkS"
      },
      "execution_count": null,
      "outputs": []
    },
    {
      "cell_type": "code",
      "source": [
        "import textwrap\n",
        "def wrap(x):\n",
        "  return textwrap.fill(x, replace_whitespace=False, fix_sentence_endings=True)"
      ],
      "metadata": {
        "id": "zm9UaGYP_mcd"
      },
      "execution_count": null,
      "outputs": []
    },
    {
      "cell_type": "code",
      "source": [
        "out = gen(lines[0], max_length=30)\n",
        "print(wrap(out[0]['generated_text']))"
      ],
      "metadata": {
        "id": "lz7xOPeL_mTK"
      },
      "execution_count": null,
      "outputs": []
    },
    {
      "cell_type": "code",
      "source": [
        "prompt = \"transformers have a wide variet of applications in nlp\"\n",
        "out = gen(prompt, max_length=50)\n",
        "print(wrap(out[0]['generated_text']))"
      ],
      "metadata": {
        "id": "pxNoewEJBzhk"
      },
      "execution_count": null,
      "outputs": []
    },
    {
      "cell_type": "code",
      "source": [],
      "metadata": {
        "id": "PUmsX1R0BzVa"
      },
      "execution_count": null,
      "outputs": []
    },
    {
      "cell_type": "code",
      "source": [],
      "metadata": {
        "id": "LsNVqS9SBzHE"
      },
      "execution_count": null,
      "outputs": []
    }
  ]
}